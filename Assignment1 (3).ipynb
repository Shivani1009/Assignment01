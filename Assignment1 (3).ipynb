{
 "cells": [
  {
   "cell_type": "markdown",
   "id": "f1cbbada-7d93-4194-b90d-334641e15bb4",
   "metadata": {},
   "source": [
    "Question1"
   ]
  },
  {
   "cell_type": "code",
   "execution_count": 2,
   "id": "4cb374f8-7776-407d-a03e-71ffe053e602",
   "metadata": {},
   "outputs": [],
   "source": [
    "a='give'"
   ]
  },
  {
   "cell_type": "code",
   "execution_count": 3,
   "id": "26fb8437-fa64-47b7-8be5-1e361089d5e7",
   "metadata": {},
   "outputs": [],
   "source": [
    "b=[23,True,4.5]"
   ]
  },
  {
   "cell_type": "code",
   "execution_count": 4,
   "id": "e8e724dd-8bad-4072-b6ba-200c0d5003dc",
   "metadata": {},
   "outputs": [],
   "source": [
    "c=4.66"
   ]
  },
  {
   "cell_type": "code",
   "execution_count": 5,
   "id": "ce76ae70-6690-4dc1-82e4-db39b6a24a6a",
   "metadata": {},
   "outputs": [],
   "source": [
    "d=(2,4,6,8)"
   ]
  },
  {
   "cell_type": "markdown",
   "id": "8eaca30b-ea35-4018-b674-91fd1ba8bf1a",
   "metadata": {},
   "source": [
    "Question2"
   ]
  },
  {
   "cell_type": "code",
   "execution_count": 6,
   "id": "312f8d40-a428-4330-9e13-a325ab67b314",
   "metadata": {},
   "outputs": [],
   "source": [
    "var1=' '"
   ]
  },
  {
   "cell_type": "code",
   "execution_count": 7,
   "id": "1d347995-c22d-40d1-9767-fabbfc816371",
   "metadata": {},
   "outputs": [
    {
     "data": {
      "text/plain": [
       "str"
      ]
     },
     "execution_count": 7,
     "metadata": {},
     "output_type": "execute_result"
    }
   ],
   "source": [
    "type(var1)"
   ]
  },
  {
   "cell_type": "code",
   "execution_count": 8,
   "id": "16afec41-d8be-4e7d-bac1-4ee58984a94c",
   "metadata": {},
   "outputs": [],
   "source": [
    "var2='[DS,MS,Python]'"
   ]
  },
  {
   "cell_type": "code",
   "execution_count": 9,
   "id": "1722716e-4fce-4743-95c6-6eff038fb405",
   "metadata": {},
   "outputs": [
    {
     "data": {
      "text/plain": [
       "str"
      ]
     },
     "execution_count": 9,
     "metadata": {},
     "output_type": "execute_result"
    }
   ],
   "source": [
    "type(var2)"
   ]
  },
  {
   "cell_type": "code",
   "execution_count": 10,
   "id": "b86550c2-0d9f-433b-b2c5-b82bc172595c",
   "metadata": {},
   "outputs": [],
   "source": [
    "var3=['DS','MS','Python']"
   ]
  },
  {
   "cell_type": "code",
   "execution_count": 11,
   "id": "8dbde3f6-6b3a-4844-bc4f-3368a0980113",
   "metadata": {},
   "outputs": [
    {
     "data": {
      "text/plain": [
       "list"
      ]
     },
     "execution_count": 11,
     "metadata": {},
     "output_type": "execute_result"
    }
   ],
   "source": [
    "type(var3)"
   ]
  },
  {
   "cell_type": "code",
   "execution_count": 12,
   "id": "6812ca0b-c359-48f5-bef4-5dcdb554c6fc",
   "metadata": {},
   "outputs": [],
   "source": [
    "var4=1"
   ]
  },
  {
   "cell_type": "code",
   "execution_count": 13,
   "id": "a7bd14c8-9425-4fb7-a81f-fa984b138a8d",
   "metadata": {},
   "outputs": [
    {
     "data": {
      "text/plain": [
       "int"
      ]
     },
     "execution_count": 13,
     "metadata": {},
     "output_type": "execute_result"
    }
   ],
   "source": [
    "type(var4)"
   ]
  },
  {
   "cell_type": "markdown",
   "id": "05e80b31-c5c9-4ef8-a04e-bd327902c9b6",
   "metadata": {},
   "source": [
    "Quetion3"
   ]
  },
  {
   "cell_type": "markdown",
   "id": "e7cb6b7c-9b02-4a85-8b78-a12af9c6b97a",
   "metadata": {},
   "source": [
    "(i) / is use for division"
   ]
  },
  {
   "cell_type": "code",
   "execution_count": 14,
   "id": "50f8a88a-175b-4d4c-b40a-cb4a4111a4a5",
   "metadata": {},
   "outputs": [
    {
     "data": {
      "text/plain": [
       "5.0"
      ]
     },
     "execution_count": 14,
     "metadata": {},
     "output_type": "execute_result"
    }
   ],
   "source": [
    "25/5"
   ]
  },
  {
   "cell_type": "markdown",
   "id": "6aa8dfd6-357c-4e1d-bb6f-7779a6f20ee5",
   "metadata": {},
   "source": [
    "(ii) % is modulus operator"
   ]
  },
  {
   "cell_type": "code",
   "execution_count": 15,
   "id": "0f206ece-c570-44f5-b8be-98fdf00871bd",
   "metadata": {},
   "outputs": [
    {
     "data": {
      "text/plain": [
       "0"
      ]
     },
     "execution_count": 15,
     "metadata": {},
     "output_type": "execute_result"
    }
   ],
   "source": [
    "25%5"
   ]
  },
  {
   "cell_type": "markdown",
   "id": "f60d09b0-cdb4-4e54-aedd-e8fca04e9aa1",
   "metadata": {},
   "source": [
    "(iii) // is use for floor division"
   ]
  },
  {
   "cell_type": "code",
   "execution_count": 16,
   "id": "328ae3b6-0135-4b05-9d49-ec6dea1c8fed",
   "metadata": {},
   "outputs": [
    {
     "data": {
      "text/plain": [
       "5"
      ]
     },
     "execution_count": 16,
     "metadata": {},
     "output_type": "execute_result"
    }
   ],
   "source": [
    "35//7"
   ]
  },
  {
   "cell_type": "markdown",
   "id": "4028670c-efd9-43c1-882a-91c3e850ec75",
   "metadata": {},
   "source": [
    "(iv) ** is use for power"
   ]
  },
  {
   "cell_type": "code",
   "execution_count": 17,
   "id": "05339a00-d167-4ad5-958f-9387b2531cbf",
   "metadata": {},
   "outputs": [
    {
     "data": {
      "text/plain": [
       "8"
      ]
     },
     "execution_count": 17,
     "metadata": {},
     "output_type": "execute_result"
    }
   ],
   "source": [
    "2**3"
   ]
  },
  {
   "cell_type": "markdown",
   "id": "fa19fc6d-86d4-469f-a356-b0f9a4abb42b",
   "metadata": {},
   "source": [
    "Question4"
   ]
  },
  {
   "cell_type": "code",
   "execution_count": 19,
   "id": "3e09efc6-0cc0-4183-8c82-9cf598dfec22",
   "metadata": {},
   "outputs": [],
   "source": [
    "l=[25,35,5.66,'string',True,-34,5+7j,24,'Microsoft',False]"
   ]
  },
  {
   "cell_type": "code",
   "execution_count": 20,
   "id": "970077e0-9458-4a13-bff9-628a35dfcb8a",
   "metadata": {},
   "outputs": [
    {
     "name": "stdout",
     "output_type": "stream",
     "text": [
      "25\n",
      "<class 'type'>\n",
      "35\n",
      "<class 'type'>\n",
      "5.66\n",
      "<class 'type'>\n",
      "string\n",
      "<class 'type'>\n",
      "True\n",
      "<class 'type'>\n",
      "-34\n",
      "<class 'type'>\n",
      "(5+7j)\n",
      "<class 'type'>\n",
      "24\n",
      "<class 'type'>\n",
      "Microsoft\n",
      "<class 'type'>\n",
      "False\n",
      "<class 'type'>\n"
     ]
    }
   ],
   "source": [
    "for k in l:\n",
    "    print(k)\n",
    "    print(type)"
   ]
  },
  {
   "cell_type": "markdown",
   "id": "d798893d-18b4-4b72-9726-36276aabdaaa",
   "metadata": {},
   "source": [
    "question5"
   ]
  },
  {
   "cell_type": "code",
   "execution_count": 2,
   "id": "b25bf014-62fe-4be1-97b7-11f7c8baeb9a",
   "metadata": {},
   "outputs": [],
   "source": [
    "a=25"
   ]
  },
  {
   "cell_type": "code",
   "execution_count": 3,
   "id": "c2c336dd-d098-4a5f-be32-a93f0b33c1c3",
   "metadata": {},
   "outputs": [],
   "source": [
    "b=5"
   ]
  },
  {
   "cell_type": "code",
   "execution_count": 7,
   "id": "32c26d3b-f749-47c9-a57b-eef95345e35a",
   "metadata": {},
   "outputs": [],
   "source": [
    "while a/b==0:\n",
    "    print(a)\n",
    "    a%b==0"
   ]
  },
  {
   "cell_type": "markdown",
   "id": "48e20622-9286-4896-ad70-ed1da55e4030",
   "metadata": {},
   "source": [
    "Quetion6"
   ]
  },
  {
   "cell_type": "code",
   "execution_count": 8,
   "id": "d238830f-b6d1-44f8-8f97-ba866555a22c",
   "metadata": {},
   "outputs": [],
   "source": [
    "m=[1,2,3,4,5,6,7,8,9,10,11,12,13,14,15,16,17,18,19,20,21,22,23,24,25]"
   ]
  },
  {
   "cell_type": "code",
   "execution_count": 17,
   "id": "3481a74e-6631-49a1-be3d-94ab8016157f",
   "metadata": {},
   "outputs": [
    {
     "name": "stdout",
     "output_type": "stream",
     "text": [
      "it is not divisible by 3\n",
      "it is not divisible by 3\n",
      "it is divible by 3\n",
      "it is not divisible by 3\n",
      "it is not divisible by 3\n",
      "it is divible by 3\n",
      "it is not divisible by 3\n",
      "it is not divisible by 3\n",
      "it is divible by 3\n",
      "it is not divisible by 3\n",
      "it is not divisible by 3\n",
      "it is divible by 3\n",
      "it is not divisible by 3\n",
      "it is not divisible by 3\n",
      "it is divible by 3\n",
      "it is not divisible by 3\n",
      "it is not divisible by 3\n",
      "it is divible by 3\n",
      "it is not divisible by 3\n",
      "it is not divisible by 3\n",
      "it is divible by 3\n",
      "it is not divisible by 3\n",
      "it is not divisible by 3\n",
      "it is divible by 3\n",
      "it is not divisible by 3\n"
     ]
    }
   ],
   "source": [
    "for i in m:\n",
    "    if i%3==0:\n",
    "        print('it is divible by 3')\n",
    "    else:\n",
    "        print('it is not divisible by 3')"
   ]
  },
  {
   "cell_type": "markdown",
   "id": "33dbcc9a-c4bd-472d-8c81-32aaea930d63",
   "metadata": {},
   "source": [
    "Quetion7"
   ]
  },
  {
   "cell_type": "markdown",
   "id": "25800c4a-bb33-4ebc-a6dc-f9e5e47dad6e",
   "metadata": {},
   "source": [
    "The mutable objects can be changed to any value or state without adding a new object.\n",
    "Whereas, the immutable objects can not be changed to its value or state once it is created."
   ]
  },
  {
   "cell_type": "markdown",
   "id": "547ef300-fb50-49f3-8948-c876f9f68240",
   "metadata": {},
   "source": [
    "Mutuble"
   ]
  },
  {
   "cell_type": "code",
   "execution_count": 18,
   "id": "cbff720b-1a4f-4e25-a64f-e501ef057e1a",
   "metadata": {},
   "outputs": [],
   "source": [
    "H=[4,6,8,'MS Office',5+6j,True]"
   ]
  },
  {
   "cell_type": "code",
   "execution_count": 19,
   "id": "577a1111-69a5-450d-b7f8-f7498ce1c663",
   "metadata": {},
   "outputs": [],
   "source": [
    "H[4]=\"Python\""
   ]
  },
  {
   "cell_type": "code",
   "execution_count": 20,
   "id": "502e2f4e-edf0-4173-873f-b09956bf6ffe",
   "metadata": {},
   "outputs": [
    {
     "data": {
      "text/plain": [
       "[4, 6, 8, 'MS Office', 'Python', True]"
      ]
     },
     "execution_count": 20,
     "metadata": {},
     "output_type": "execute_result"
    }
   ],
   "source": [
    "H"
   ]
  },
  {
   "cell_type": "markdown",
   "id": "b7b3f843-a371-4493-af35-2496c318ffad",
   "metadata": {},
   "source": [
    "Imutuble"
   ]
  },
  {
   "cell_type": "code",
   "execution_count": 21,
   "id": "88ab4dba-4116-49bb-bc4b-e4ce904feffb",
   "metadata": {},
   "outputs": [],
   "source": [
    "S='Python'"
   ]
  },
  {
   "cell_type": "code",
   "execution_count": 22,
   "id": "5abbabfc-5239-410b-843a-a81cc53ae6df",
   "metadata": {},
   "outputs": [
    {
     "ename": "TypeError",
     "evalue": "'str' object does not support item assignment",
     "output_type": "error",
     "traceback": [
      "\u001b[0;31m---------------------------------------------------------------------------\u001b[0m",
      "\u001b[0;31mTypeError\u001b[0m                                 Traceback (most recent call last)",
      "Cell \u001b[0;32mIn[22], line 1\u001b[0m\n\u001b[0;32m----> 1\u001b[0m \u001b[43mS\u001b[49m\u001b[43m[\u001b[49m\u001b[38;5;241;43m2\u001b[39;49m\u001b[43m]\u001b[49m\u001b[38;5;241m=\u001b[39m\u001b[38;5;124m\"\u001b[39m\u001b[38;5;124mk\u001b[39m\u001b[38;5;124m\"\u001b[39m\n",
      "\u001b[0;31mTypeError\u001b[0m: 'str' object does not support item assignment"
     ]
    }
   ],
   "source": [
    "S[2]=\"k\""
   ]
  },
  {
   "cell_type": "code",
   "execution_count": null,
   "id": "af56a274-7c16-49cd-8b90-6d1777ff61f3",
   "metadata": {},
   "outputs": [],
   "source": []
  }
 ],
 "metadata": {
  "kernelspec": {
   "display_name": "Python 3 (ipykernel)",
   "language": "python",
   "name": "python3"
  },
  "language_info": {
   "codemirror_mode": {
    "name": "ipython",
    "version": 3
   },
   "file_extension": ".py",
   "mimetype": "text/x-python",
   "name": "python",
   "nbconvert_exporter": "python",
   "pygments_lexer": "ipython3",
   "version": "3.10.8"
  }
 },
 "nbformat": 4,
 "nbformat_minor": 5
}
